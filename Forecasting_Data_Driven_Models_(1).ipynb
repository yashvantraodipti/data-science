{
  "nbformat": 4,
  "nbformat_minor": 0,
  "metadata": {
    "kernelspec": {
      "display_name": "Python 3",
      "language": "python",
      "name": "python3"
    },
    "language_info": {
      "codemirror_mode": {
        "name": "ipython",
        "version": 3
      },
      "file_extension": ".py",
      "mimetype": "text/x-python",
      "name": "python",
      "nbconvert_exporter": "python",
      "pygments_lexer": "ipython3",
      "version": "3.7.4"
    },
    "colab": {
      "name": "Forecasting_Data_Driven_Models (1).ipynb",
      "provenance": [],
      "collapsed_sections": [],
      "include_colab_link": true
    }
  },
  "cells": [
    {
      "cell_type": "markdown",
      "metadata": {
        "id": "view-in-github",
        "colab_type": "text"
      },
      "source": [
        "<a href=\"https://colab.research.google.com/github/yashvantraodipti/data-science/blob/main/Forecasting_Data_Driven_Models_(1).ipynb\" target=\"_parent\"><img src=\"https://colab.research.google.com/assets/colab-badge.svg\" alt=\"Open In Colab\"/></a>"
      ]
    },
    {
      "cell_type": "code",
      "metadata": {
        "id": "OEpX5uvIq22Y"
      },
      "source": [
        "import pandas as pd\n",
        "import numpy as np\n",
        "import matplotlib.pyplot as plt\n",
        "import seaborn as sns\n",
        "from statsmodels.tsa.seasonal import seasonal_decompose\n",
        "from statsmodels.tsa.holtwinters import SimpleExpSmoothing # SES\n",
        "from statsmodels.tsa.holtwinters import Holt # Holts Exponential Smoothing\n",
        "from statsmodels.tsa.holtwinters import ExponentialSmoothing "
      ],
      "execution_count": null,
      "outputs": []
    },
    {
      "cell_type": "code",
      "metadata": {
        "id": "D1mxNbliq22h"
      },
      "source": [
        "Walmart = pd.read_csv(\"footfalls.csv\")\n",
        "Walmart.Footfalls.plot()"
      ],
      "execution_count": null,
      "outputs": []
    },
    {
      "cell_type": "markdown",
      "metadata": {
        "id": "aAAF5NyZq22j"
      },
      "source": [
        "# Splitting data"
      ]
    },
    {
      "cell_type": "code",
      "metadata": {
        "id": "c6FEkte6q22j"
      },
      "source": [
        "Train = Walmart.head(147)\n",
        "Test = Walmart.tail(12)\n",
        "Train"
      ],
      "execution_count": null,
      "outputs": []
    },
    {
      "cell_type": "markdown",
      "metadata": {
        "id": "LVeUWYS-q22k"
      },
      "source": [
        "# Moving Average "
      ]
    },
    {
      "cell_type": "code",
      "metadata": {
        "id": "MabCIzxOq22k"
      },
      "source": [
        "plt.figure(figsize=(24,7))\n",
        "Walmart.Footfalls.plot(label=\"org\")\n",
        "for i in range(2,24,6):\n",
        "    Walmart[\"Footfalls\"].rolling(i).mean().plot(label=str(i))\n",
        "plt.legend(loc='best')"
      ],
      "execution_count": null,
      "outputs": []
    },
    {
      "cell_type": "markdown",
      "metadata": {
        "id": "nJ4ugYFrq22l"
      },
      "source": [
        "# Time series decomposition plot \n"
      ]
    },
    {
      "cell_type": "code",
      "metadata": {
        "id": "UYUEtQY3q22l"
      },
      "source": [
        "decompose_ts_add = seasonal_decompose(Walmart.Footfalls,freq= 12)\n",
        "decompose_ts_add.plot()\n",
        "plt.show()"
      ],
      "execution_count": null,
      "outputs": []
    },
    {
      "cell_type": "markdown",
      "metadata": {
        "id": "lf4rT2wYq22m"
      },
      "source": [
        "# ACF plots and PACF plots\n"
      ]
    },
    {
      "cell_type": "code",
      "metadata": {
        "id": "u2vc8pU9q22m"
      },
      "source": [
        "import statsmodels.graphics.tsaplots as tsa_plots\n",
        "tsa_plots.plot_acf(Walmart.Footfalls,lags=12)\n",
        "tsa_plots.plot_pacf(Walmart.Footfalls,lags=12)\n",
        "plt.show()\n"
      ],
      "execution_count": null,
      "outputs": []
    },
    {
      "cell_type": "markdown",
      "metadata": {
        "id": "a09fmOCKq22n"
      },
      "source": [
        "### Evaluation Metric MAPE"
      ]
    },
    {
      "cell_type": "code",
      "metadata": {
        "id": "2ExVt_YRq22o"
      },
      "source": [
        "def MAPE(pred,org):\n",
        "    temp = np.abs((pred-org)/org)*100\n",
        "    return np.mean(temp)"
      ],
      "execution_count": null,
      "outputs": []
    },
    {
      "cell_type": "markdown",
      "metadata": {
        "id": "MU7bzfWyq22o"
      },
      "source": [
        "### Simple Exponential Method\n"
      ]
    },
    {
      "cell_type": "code",
      "metadata": {
        "id": "Ecn0tISTq22p"
      },
      "source": [
        "ses_model = SimpleExpSmoothing(Train[\"Footfalls\"]).fit(smoothing_level=0.2)\n",
        "pred_ses = ses_model.predict(start = Test.index[0],end = Test.index[-1])\n",
        "MAPE(pred_ses,Test.Footfalls) \n"
      ],
      "execution_count": null,
      "outputs": []
    },
    {
      "cell_type": "markdown",
      "metadata": {
        "id": "sHB4rWb4q22q"
      },
      "source": [
        "### Holt method "
      ]
    },
    {
      "cell_type": "code",
      "metadata": {
        "id": "LUE0PQCjq22q"
      },
      "source": [
        "# Holt method \n",
        "hw_model = Holt(Train[\"Footfalls\"]).fit(smoothing_level=0.8, smoothing_slope=0.2)\n",
        "pred_hw = hw_model.predict(start = Test.index[0],end = Test.index[-1])\n",
        "MAPE(pred_hw,Test.Footfalls) "
      ],
      "execution_count": null,
      "outputs": []
    },
    {
      "cell_type": "markdown",
      "metadata": {
        "id": "gf5HRe08q22r"
      },
      "source": [
        "### Holts winter exponential smoothing with additive seasonality and additive trend\n"
      ]
    },
    {
      "cell_type": "code",
      "metadata": {
        "id": "859fXdoWq22r"
      },
      "source": [
        "hwe_model_add_add = ExponentialSmoothing(Train[\"Footfalls\"],seasonal=\"add\",trend=\"add\",seasonal_periods=12).fit() #add the trend to the model\n",
        "pred_hwe_add_add = hwe_model_add_add.predict(start = Test.index[0],end = Test.index[-1])\n",
        "MAPE(pred_hwe_add_add,Test.Footfalls) "
      ],
      "execution_count": null,
      "outputs": []
    },
    {
      "cell_type": "markdown",
      "metadata": {
        "id": "SQNgCiy4q22r"
      },
      "source": [
        "### Holts winter exponential smoothing with multiplicative seasonality and additive trend"
      ]
    },
    {
      "cell_type": "code",
      "metadata": {
        "id": "YHr7sH4Hq22s"
      },
      "source": [
        "hwe_model_mul_add = ExponentialSmoothing(Train[\"Footfalls\"],seasonal=\"mul\",trend=\"add\",seasonal_periods=12).fit() \n",
        "pred_hwe_mul_add = hwe_model_mul_add.predict(start = Test.index[0],end = Test.index[-1])\n",
        "MAPE(pred_hwe_mul_add,Test.Footfalls)"
      ],
      "execution_count": null,
      "outputs": []
    },
    {
      "cell_type": "markdown",
      "metadata": {
        "id": "tGRkitFqq22u"
      },
      "source": [
        "## Final Model by combining train and test"
      ]
    },
    {
      "cell_type": "code",
      "metadata": {
        "id": "d72glDRhq22w"
      },
      "source": [
        "hwe_model_add_add = ExponentialSmoothing(Walmart[\"Footfalls\"],seasonal=\"mul\",trend=\"add\",seasonal_periods=12).fit()"
      ],
      "execution_count": null,
      "outputs": []
    },
    {
      "cell_type": "code",
      "metadata": {
        "id": "AvtGMU3Cq22x"
      },
      "source": [
        "#Forecasting for next 10 time periods\n",
        "hwe_model_add_add.forecast(10)"
      ],
      "execution_count": null,
      "outputs": []
    },
    {
      "cell_type": "code",
      "metadata": {
        "id": "06PQ3KpNq22y"
      },
      "source": [
        ""
      ],
      "execution_count": null,
      "outputs": []
    }
  ]
}