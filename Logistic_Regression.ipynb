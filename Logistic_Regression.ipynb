{
  "nbformat": 4,
  "nbformat_minor": 0,
  "metadata": {
    "kernelspec": {
      "display_name": "Python 3",
      "language": "python",
      "name": "python3"
    },
    "language_info": {
      "codemirror_mode": {
        "name": "ipython",
        "version": 3
      },
      "file_extension": ".py",
      "mimetype": "text/x-python",
      "name": "python",
      "nbconvert_exporter": "python",
      "pygments_lexer": "ipython3",
      "version": "3.7.4"
    },
    "colab": {
      "name": "Logistic_Regression.ipynb",
      "provenance": [],
      "include_colab_link": true
    }
  },
  "cells": [
    {
      "cell_type": "markdown",
      "metadata": {
        "id": "view-in-github",
        "colab_type": "text"
      },
      "source": [
        "<a href=\"https://colab.research.google.com/github/yashvantraodipti/data-science/blob/main/Logistic_Regression.ipynb\" target=\"_parent\"><img src=\"https://colab.research.google.com/assets/colab-badge.svg\" alt=\"Open In Colab\"/></a>"
      ]
    },
    {
      "cell_type": "code",
      "metadata": {
        "id": "TOZxYem9PgAy"
      },
      "source": [
        "import pandas as pd\n",
        "from sklearn.linear_model import LogisticRegression"
      ],
      "execution_count": null,
      "outputs": []
    },
    {
      "cell_type": "code",
      "metadata": {
        "id": "wB8UzqLwPgA2"
      },
      "source": [
        "#Load the data set\n",
        "claimants = pd.read_csv(\"claimants.csv\")\n",
        "claimants.head()"
      ],
      "execution_count": null,
      "outputs": []
    },
    {
      "cell_type": "code",
      "metadata": {
        "id": "lPm4VJvWPgA2"
      },
      "source": [
        "# dropping the case number columns as it is not required\n",
        "claimants.drop([\"CASENUM\"],inplace=True,axis = 1)"
      ],
      "execution_count": null,
      "outputs": []
    },
    {
      "cell_type": "code",
      "metadata": {
        "id": "S2Si-kQ8PgA3"
      },
      "source": [
        "#Shape of the data set\n",
        "claimants.shape"
      ],
      "execution_count": null,
      "outputs": []
    },
    {
      "cell_type": "code",
      "metadata": {
        "id": "nSEYqxR3PgA3"
      },
      "source": [
        "# Removing NA values in data set\n",
        "claimants = claimants.dropna()\n",
        "claimants.shape"
      ],
      "execution_count": null,
      "outputs": []
    },
    {
      "cell_type": "code",
      "metadata": {
        "id": "9wpdLiv6xYGW"
      },
      "source": [
        "claimants.head()"
      ],
      "execution_count": null,
      "outputs": []
    },
    {
      "cell_type": "code",
      "metadata": {
        "id": "t2bvp9i9PgA4"
      },
      "source": [
        "# Dividing our data into input and output variables \n",
        "X = claimants.iloc[:,1:]\n",
        "Y = claimants.iloc[:,0]"
      ],
      "execution_count": null,
      "outputs": []
    },
    {
      "cell_type": "code",
      "metadata": {
        "id": "CaIlEFT2PgA4"
      },
      "source": [
        "#Logistic regression and fit the model\n",
        "classifier = LogisticRegression()\n",
        "classifier.fit(X,Y)"
      ],
      "execution_count": null,
      "outputs": []
    },
    {
      "cell_type": "code",
      "metadata": {
        "id": "4FZW9b9wPgA5"
      },
      "source": [
        "#Predict for X dataset\n",
        "y_pred = classifier.predict(X)"
      ],
      "execution_count": null,
      "outputs": []
    },
    {
      "cell_type": "code",
      "metadata": {
        "id": "VLhrNm_hPgA5"
      },
      "source": [
        "y_pred_df= pd.DataFrame({'actual': Y,\n",
        "                         'predicted_prob': classifier.predict(X)})"
      ],
      "execution_count": null,
      "outputs": []
    },
    {
      "cell_type": "code",
      "metadata": {
        "id": "MG7yBbBKPgA6"
      },
      "source": [
        "y_pred_df"
      ],
      "execution_count": null,
      "outputs": []
    },
    {
      "cell_type": "code",
      "metadata": {
        "id": "g1HMK7BgPgA6"
      },
      "source": [
        "# Confusion Matrix for the model accuracy\n",
        "from sklearn.metrics import confusion_matrix\n",
        "confusion_matrix = confusion_matrix(Y,y_pred)\n",
        "print (confusion_matrix)"
      ],
      "execution_count": null,
      "outputs": []
    },
    {
      "cell_type": "code",
      "metadata": {
        "id": "z1ywJrHuPgA7"
      },
      "source": [
        "((381+395)/(381+197+123+395))*100"
      ],
      "execution_count": null,
      "outputs": []
    },
    {
      "cell_type": "code",
      "metadata": {
        "id": "-NoOdZZWPgA7"
      },
      "source": [
        "#Classification report\n",
        "from sklearn.metrics import classification_report\n",
        "print(classification_report(Y,y_pred))"
      ],
      "execution_count": null,
      "outputs": []
    },
    {
      "cell_type": "code",
      "metadata": {
        "id": "izR8QxUKPgA7"
      },
      "source": [
        "# ROC Curve"
      ],
      "execution_count": null,
      "outputs": []
    },
    {
      "cell_type": "code",
      "metadata": {
        "id": "fG1TI9NwzFee"
      },
      "source": [
        "classifier.predict_proba (X)"
      ],
      "execution_count": null,
      "outputs": []
    },
    {
      "cell_type": "code",
      "metadata": {
        "id": "VmyRa3SAPgA7"
      },
      "source": [
        "from sklearn.metrics import roc_curve\n",
        "from sklearn.metrics import roc_auc_score\n",
        "\n",
        "fpr, tpr, thresholds = roc_curve(Y, classifier.predict_proba (X)[:,1])\n",
        "\n",
        "auc = roc_auc_score(Y, y_pred)\n",
        "\n",
        "import matplotlib.pyplot as plt\n",
        "plt.plot(fpr, tpr, color='red', label='logit model ( area  = %0.2f)'%auc)\n",
        "plt.plot([0, 1], [0, 1], 'k--')\n",
        "plt.xlabel('False Positive Rate or [1 - True Negative Rate]')\n",
        "plt.ylabel('True Positive Rate')\n"
      ],
      "execution_count": null,
      "outputs": []
    },
    {
      "cell_type": "code",
      "metadata": {
        "id": "Sr7kE-aLPgA8"
      },
      "source": [
        "auc"
      ],
      "execution_count": null,
      "outputs": []
    },
    {
      "cell_type": "code",
      "metadata": {
        "id": "KjY3lbELPgA8"
      },
      "source": [
        ""
      ],
      "execution_count": null,
      "outputs": []
    }
  ]
}